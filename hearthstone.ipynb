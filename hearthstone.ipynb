{
 "cells": [
  {
   "cell_type": "code",
   "execution_count": 92,
   "metadata": {},
   "outputs": [],
   "source": [
    "## from lxml import html\n",
    "import requests\n",
    "\n",
    "url = \"https://hearthstone.gamepedia.com/\"\n",
    "mainPage = \"https://hearthstone.gamepedia.com/Kobolds_and_Catacombs\"\n",
    "\n",
    "rootPage = requests.get(mainPage)\n",
    "tree = html.fromstring(rootPage.content)\n",
    "endPoints = tree.xpath('//a[@class=\"to_hasTooltip\"]/@href')\n",
    "#print(url+endpoints[0])\n"
   ]
  },
  {
   "cell_type": "code",
   "execution_count": 93,
   "metadata": {},
   "outputs": [],
   "source": [
    "contentReq = requests.get(url+endpoints[0])\n",
    "content = html.fromstring(contentReq.content)\n"
   ]
  },
  {
   "cell_type": "code",
   "execution_count": 96,
   "metadata": {},
   "outputs": [
    {
     "name": "stdout",
     "output_type": "stream",
     "text": [
      "['Dire Mole']\n"
     ]
    }
   ],
   "source": [
    "title = content.xpath('//*[@id=\"mw-content-text\"]/div[1]/div[1]/text()')\n",
    "cardSet = content.xpath('//tr[1]/td/a/text()')\n",
    "cardType = content.xpath('//tr[2]/td/a/text()')\n",
    "subType = content.xpath('//tr[3]/td/a/text()')\n",
    "rarity = content.xpath('//tr[4]/td/text()')\n",
    "attack = content.xpath('//tr[4]/td/text()')\n",
    "health = content.xpath('//tr[6]/td/text()')\n",
    "test = content.xpath('//*[@id=\"mw-content-text\"]/div[1]/div[1]/text()')\n",
    "print(title)\n"
   ]
  }
 ],
 "metadata": {
  "kernelspec": {
   "display_name": "Python 3",
   "language": "python",
   "name": "python3"
  },
  "language_info": {
   "codemirror_mode": {
    "name": "ipython",
    "version": 3
   },
   "file_extension": ".py",
   "mimetype": "text/x-python",
   "name": "python",
   "nbconvert_exporter": "python",
   "pygments_lexer": "ipython3",
   "version": "3.6.2"
  }
 },
 "nbformat": 4,
 "nbformat_minor": 2
}
